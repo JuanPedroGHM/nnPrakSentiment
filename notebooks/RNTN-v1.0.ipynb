{
 "cells": [
  {
   "cell_type": "code",
   "execution_count": 68,
   "metadata": {},
   "outputs": [],
   "source": [
    "import pytreebank\n",
    "import torch.nn as nn\n",
    "import torch.nn.functional as F\n",
    "import re"
   ]
  },
  {
   "cell_type": "code",
   "execution_count": 56,
   "metadata": {},
   "outputs": [],
   "source": [
    "bank = pytreebank.load_sst(\"/Users/juanpedrogutierrez/code/sentimentAnalysis/stanfordSentimentTreebank/trees\")"
   ]
  },
  {
   "cell_type": "markdown",
   "metadata": {},
   "source": [
    "## Read vocabulary with regular expresions out of the dictionary.txt file and define the oneHotEncoding function"
   ]
  },
  {
   "cell_type": "code",
   "execution_count": 117,
   "metadata": {},
   "outputs": [],
   "source": [
    "dictFile = open(\"../stanfordSentimentTreebank/dictionary.txt\")\n",
    "lines = dictFile.readlines()\n",
    "exp = r'^(\\S+)\\|\\d+$'\n",
    "unfilterdWords = map(lambda line: re.findall(exp, line), lines)\n",
    "words = list(map(lambda x: x[0], filter(lambda x: len(x) > 0, unfilterdWords)))\n",
    "dictionary = dict((word, number) for number, word in enumerate(words))"
   ]
  },
  {
   "cell_type": "code",
   "execution_count": 122,
   "metadata": {},
   "outputs": [],
   "source": [
    "def oneHotEncoding(word, dictionary):\n",
    "    vector = torch.zeros(len(dictionary), 1)\n",
    "    vector[dictionary[word]] = 1\n",
    "    return vector"
   ]
  },
  {
   "cell_type": "markdown",
   "metadata": {},
   "source": [
    "## Define RNTN (Recursive Neural Tensor Network) as a pytorch module"
   ]
  },
  {
   "cell_type": "code",
   "execution_count": 61,
   "metadata": {},
   "outputs": [],
   "source": [
    "class RNTN(nn.Module):\n",
    "    \n",
    "    def __init__(self, vocabularySize, classes = 5, d = 25,):\n",
    "        self.d = d\n",
    "        self.L = nn.Linear(vocabularySize, d, bias=False)\n",
    "        self.W = nn.Linear(d * 2, d)\n",
    "        self.Ws = nn.Linear(d,  classes)\n",
    "        self.V = torch.rand(2 * d, 2 * d, d)\n",
    "    \n",
    "    def tensorProduct(self, phrase):    \n",
    "        result = torch.empty(self.d, 1)\n",
    "        for i in range(self.d):\n",
    "            result[i] = torch.mm(torch.t(phrase), torch.mm(self.V[:,:,i], phrase))\n",
    "        return result\n",
    "    \n",
    "    def embed(self, inpt):\n",
    "        return self.L(inpt)\n",
    "    \n",
    "    def getSentiment(self, inpt):\n",
    "        return F.softmax(self.Ws(inpt))\n",
    "    \n",
    "    def forward(self, inpt1, inpt2):\n",
    "        phrase = torch.cat([inpt1, inpt2], dim=0)\n",
    "        parent = F.tanh(tensorProduc(phrase) + self.W(phrase))\n",
    "        return parent, self.Ws(parent)"
   ]
  },
  {
   "cell_type": "code",
   "execution_count": null,
   "metadata": {},
   "outputs": [],
   "source": []
  }
 ],
 "metadata": {
  "kernelspec": {
   "display_name": "Python 3",
   "language": "python",
   "name": "python3"
  },
  "language_info": {
   "codemirror_mode": {
    "name": "ipython",
    "version": 3
   },
   "file_extension": ".py",
   "mimetype": "text/x-python",
   "name": "python",
   "nbconvert_exporter": "python",
   "pygments_lexer": "ipython3",
   "version": "3.7.1"
  },
  "varInspector": {
   "cols": {
    "lenName": 16,
    "lenType": 16,
    "lenVar": 40
   },
   "kernels_config": {
    "python": {
     "delete_cmd_postfix": "",
     "delete_cmd_prefix": "del ",
     "library": "var_list.py",
     "varRefreshCmd": "print(var_dic_list())"
    },
    "r": {
     "delete_cmd_postfix": ") ",
     "delete_cmd_prefix": "rm(",
     "library": "var_list.r",
     "varRefreshCmd": "cat(var_dic_list()) "
    }
   },
   "types_to_exclude": [
    "module",
    "function",
    "builtin_function_or_method",
    "instance",
    "_Feature"
   ],
   "window_display": false
  }
 },
 "nbformat": 4,
 "nbformat_minor": 2
}
