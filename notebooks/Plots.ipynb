{
 "cells": [
  {
   "cell_type": "code",
   "execution_count": null,
   "metadata": {},
   "outputs": [],
   "source": [
    "import torch\n",
    "import torch.nn as nn\n",
    "import torch.optim as optim\n",
    "\n",
    "from torchfold import Fold\n",
    "\n",
    "from sklearn.utils import shuffle\n",
    "from sklearn.metrics import accuracy_score\n",
    "\n",
    "import numpy as np\n",
    "\n",
    "import pytreebank\n",
    "\n",
    "import re\n",
    "import time"
   ]
  },
  {
   "cell_type": "code",
   "execution_count": null,
   "metadata": {},
   "outputs": [],
   "source": [
    "dictFile = open(\"../stanfordSentimentTreebank/dictionary.txt\")\n",
    "lines = dictFile.readlines()\n",
    "exp = r'^(\\S+)\\|\\d+$'\n",
    "words = list(map(lambda x: x.replace('\\\\', ''),\n",
    "            map(lambda x: x[0],\n",
    "            filter(lambda x: len(x) > 0, \n",
    "            map(lambda line: re.findall(exp, line), \n",
    "            lines)))))\n",
    "words.append('8 1/2')\n",
    "words.append('2 1/2')\n",
    "words.append('9 1/2')\n",
    "\n",
    "word2idx = dict((word, number) for number, word in enumerate(words))"
   ]
  },
  {
   "cell_type": "code",
   "execution_count": null,
   "metadata": {},
   "outputs": [],
   "source": [
    "class RNTN(nn.Module): \n",
    "    def __init__(self, vocabularySize, classes = 5, d = 30):\n",
    "        super(RNTN, self).__init__()\n",
    "        self.d = d\n",
    "        self.L = nn.Embedding(vocabularySize, d)\n",
    "        self.W = nn.Linear(d * 2, d)\n",
    "        self.Ws = nn.Linear(d,  classes)\n",
    "        self.register_parameter('V', nn.Parameter(torch.rand(2 * d, 2 * d, d)))\n",
    "        self.lSoftmax = nn.LogSoftmax(dim=1)\n",
    "    \n",
    "    def tensorProduct(self, phrase):\n",
    "        result = torch.empty(phrase.shape[0], self.d)\n",
    "        for i in range(self.d):\n",
    "            result[:,i] = torch.sum(phrase * torch.mm(phrase, self.V[:,:,i]), dim = 1)\n",
    "        return result\n",
    "    \n",
    "    def embed(self, inpt):\n",
    "        return self.L(inpt)\n",
    "    \n",
    "    def sentiment(self, inpt):\n",
    "        return self.lSoftmax(self.Ws(inpt))\n",
    "    \n",
    "    def node(self, leftPhrase, rightPhrase):\n",
    "        phraseVec = torch.cat([leftPhrase, rightPhrase], dim=1)\n",
    "        return torch.tanh(self.tensorProduct(phraseVec) + self.W(phraseVec))"
   ]
  },
  {
   "cell_type": "code",
   "execution_count": null,
   "metadata": {},
   "outputs": [],
   "source": [
    "def encodeTree(fold, tree):\n",
    "    def encodeNode(node):\n",
    "        if len(node.children) == 0:\n",
    "            return fold.add('embed', word2idx[node.to_lines()[0]])\n",
    "        else:\n",
    "            return fold.add('node', encodeNode(node.children[0]), encodeNode(node.children[1]))\n",
    "            \n",
    "    encodedTree = encodeNode(tree)\n",
    "    return fold.add('sentiment', encodedTree)"
   ]
  },
  {
   "cell_type": "code",
   "execution_count": null,
   "metadata": {},
   "outputs": [],
   "source": [
    "device = torch.device(\"cuda:0\" if torch.cuda.is_available() else \"cpu\")\n",
    "print('Training on {}'.format(device))"
   ]
  },
  {
   "cell_type": "markdown",
   "metadata": {},
   "source": [
    "## Plots with d=30 on the devSet"
   ]
  },
  {
   "cell_type": "code",
   "execution_count": null,
   "metadata": {},
   "outputs": [],
   "source": [
    "path = '../savedModels/d30'\n",
    "accuracy = []\n",
    "\n",
    "net = RNTN(len(word2idx), d = 30)\n",
    "\n",
    "for epoch in np.arange(100, 5001, 100):\n",
    "    checkpoint = torch.load('{}/net_{}.pth'.format(path, epoch))\n",
    "    net.load_state_dict(checkpoint)\n",
    "    net.eval()\n",
    "    with torch.no_grad():\n",
    "        fold = Fold(cuda= device.type != 'cpu')\n",
    "        allOutputs, allLabels = [], []\n",
    "        for sentenceTree in bank['dev']:\n",
    "            allOutputs.append(encodeTree(fold, sentenceTree))\n",
    "            allLabels.append(sentenceTree.label)\n",
    "\n",
    "        res = fold.apply(net, [allOutputs, allLabels])\n",
    "        accuracy.append(accuracy_score(torch.argmax(res[0], dim=1), res[1]))\n",
    "        print('Epoch {}: Accuracy on the dev set = {}'.format(e, accuracy[-1]))"
   ]
  }
 ],
 "metadata": {
  "kernelspec": {
   "display_name": "Python 3",
   "language": "python",
   "name": "python3"
  },
  "language_info": {
   "codemirror_mode": {
    "name": "ipython",
    "version": 3
   },
   "file_extension": ".py",
   "mimetype": "text/x-python",
   "name": "python",
   "nbconvert_exporter": "python",
   "pygments_lexer": "ipython3",
   "version": "3.7.1"
  },
  "varInspector": {
   "cols": {
    "lenName": 16,
    "lenType": 16,
    "lenVar": 40
   },
   "kernels_config": {
    "python": {
     "delete_cmd_postfix": "",
     "delete_cmd_prefix": "del ",
     "library": "var_list.py",
     "varRefreshCmd": "print(var_dic_list())"
    },
    "r": {
     "delete_cmd_postfix": ") ",
     "delete_cmd_prefix": "rm(",
     "library": "var_list.r",
     "varRefreshCmd": "cat(var_dic_list()) "
    }
   },
   "types_to_exclude": [
    "module",
    "function",
    "builtin_function_or_method",
    "instance",
    "_Feature"
   ],
   "window_display": false
  }
 },
 "nbformat": 4,
 "nbformat_minor": 2
}
