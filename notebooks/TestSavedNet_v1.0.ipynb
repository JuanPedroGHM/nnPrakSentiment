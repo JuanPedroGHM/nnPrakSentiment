{
 "cells": [
  {
   "cell_type": "code",
   "execution_count": null,
   "metadata": {},
   "outputs": [],
   "source": [
    "import pytreebank\n",
    "import torch\n",
    "import torch.nn as nn\n",
    "import torch.nn.functional as F\n",
    "import torch.optim as optim\n",
    "\n",
    "import random\n",
    "import re"
   ]
  },
  {
   "cell_type": "code",
   "execution_count": null,
   "metadata": {},
   "outputs": [],
   "source": [
    "bank = pytreebank.load_sst(\"stanfordSentimentTreebank/trees\")\n",
    "\n",
    "dictFile = open(\"stanfordSentimentTreebank/dictionary.txt\")\n",
    "lines = dictFile.readlines()\n",
    "exp = r'^(\\S+)\\|\\d+$'\n",
    "unfilterdWords = map(lambda line: re.findall(exp, line), lines)\n",
    "words = list(map(lambda x: x.replace('\\\\', ''),\n",
    "            map(lambda x: x[0],\n",
    "            filter(lambda x: len(x) > 0, \n",
    "            unfilterdWords))))\n",
    "words.append('8 1/2')\n",
    "words.append('2 1/2')\n",
    "words.append('9 1/2')\n",
    "\n",
    "dictionary = dict((word, number) for number, word in enumerate(words))\n",
    "\n",
    "def oneHotEncoding(word):\n",
    "    ##if word.find('/') != -1:\n",
    "    ##    tmp = word.split('/')\n",
    "    ##    word = tmp[0] + '\\/' + tmp[1]\n",
    "    vector = torch.zeros(1, len(dictionary)).cuda()\n",
    "    vector[0][dictionary[word]] = 1\n",
    "    return vector\n",
    "\n",
    "def getLabels(tree):\n",
    "    labels = []\n",
    "    if len(tree.children) == 2:\n",
    "        labels.extend(getLabels(tree.children[0]))\n",
    "        labels.extend(getLabels(tree.children[1]))\n",
    "        labels.extend([tree.label])\n",
    "        return labels\n",
    "    else:\n",
    "        return [tree.label]"
   ]
  },
  {
   "cell_type": "code",
   "execution_count": null,
   "metadata": {},
   "outputs": [],
   "source": [
    "testNet = torch.load('./net.pth')\n",
    "testNet.eval()\n",
    "\n",
    "with torch.no_grad():\n",
    "    correct = 0\n",
    "    total = len(bank['test'])\n",
    "    for sentence in bank['test']:\n",
    "        outputs = testNet(sentence)\n",
    "        targets = torch.tensor(getLabels(sentence))\n",
    "\n",
    "        if torch.argmax(outputs[-1]) == targets[-1]:\n",
    "            correct += 1\n",
    "\n",
    "    print(f'Fine grained accuracy on the test set: {correct/total * 100}%')"
   ]
  }
 ],
 "metadata": {
  "kernelspec": {
   "display_name": "Python 3",
   "language": "python",
   "name": "python3"
  },
  "language_info": {
   "codemirror_mode": {
    "name": "ipython",
    "version": 3
   },
   "file_extension": ".py",
   "mimetype": "text/x-python",
   "name": "python",
   "nbconvert_exporter": "python",
   "pygments_lexer": "ipython3",
   "version": "3.7.1"
  },
  "varInspector": {
   "cols": {
    "lenName": 16,
    "lenType": 16,
    "lenVar": 40
   },
   "kernels_config": {
    "python": {
     "delete_cmd_postfix": "",
     "delete_cmd_prefix": "del ",
     "library": "var_list.py",
     "varRefreshCmd": "print(var_dic_list())"
    },
    "r": {
     "delete_cmd_postfix": ") ",
     "delete_cmd_prefix": "rm(",
     "library": "var_list.r",
     "varRefreshCmd": "cat(var_dic_list()) "
    }
   },
   "types_to_exclude": [
    "module",
    "function",
    "builtin_function_or_method",
    "instance",
    "_Feature"
   ],
   "window_display": false
  }
 },
 "nbformat": 4,
 "nbformat_minor": 2
}
