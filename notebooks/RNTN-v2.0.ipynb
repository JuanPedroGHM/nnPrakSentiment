{
 "cells": [
  {
   "cell_type": "markdown",
   "metadata": {},
   "source": [
    "# RNTN using Dynamic Batching"
   ]
  },
  {
   "cell_type": "markdown",
   "metadata": {},
   "source": [
    "## Import Statements"
   ]
  },
  {
   "cell_type": "code",
   "execution_count": null,
   "metadata": {},
   "outputs": [],
   "source": [
    "import torch\n",
    "import torch.nn as nn\n",
    "import torch.optim as optim\n",
    "\n",
    "from torchfold import Fold\n",
    "\n",
    "from sklearn.utils import shuffle\n",
    "from sklearn.metrics import accuracy_score\n",
    "\n",
    "import numpy as np\n",
    "\n",
    "import pytreebank\n",
    "\n",
    "import re\n",
    "import time"
   ]
  },
  {
   "cell_type": "markdown",
   "metadata": {},
   "source": [
    "## Loading and Pre-processing"
   ]
  },
  {
   "cell_type": "code",
   "execution_count": null,
   "metadata": {},
   "outputs": [],
   "source": [
    "dictFile = open(\"../stanfordSentimentTreebank/dictionary.txt\")\n",
    "lines = dictFile.readlines()\n",
    "exp = r'^(\\S+)\\|\\d+$'\n",
    "words = list(map(lambda x: x.replace('\\\\', ''),\n",
    "            map(lambda x: x[0],\n",
    "            filter(lambda x: len(x) > 0, \n",
    "            map(lambda line: re.findall(exp, line), \n",
    "            lines)))))\n",
    "words.append('8 1/2')\n",
    "words.append('2 1/2')\n",
    "words.append('9 1/2')\n",
    "\n",
    "word2idx = dict((word, number) for number, word in enumerate(words))"
   ]
  },
  {
   "cell_type": "code",
   "execution_count": null,
   "metadata": {},
   "outputs": [],
   "source": [
    "bank = pytreebank.load_sst(\"../stanfordSentimentTreebank/trees\")\n",
    "\n",
    "def chunks(l, n):\n",
    "    \"\"\"Yield successive n-sized chunks from l.\"\"\"\n",
    "    for i in range(0, len(l), n):\n",
    "        yield l[i:i + n]"
   ]
  },
  {
   "cell_type": "markdown",
   "metadata": {},
   "source": [
    "## Define RNTN"
   ]
  },
  {
   "cell_type": "code",
   "execution_count": null,
   "metadata": {},
   "outputs": [],
   "source": [
    "class RNTN(nn.Module): \n",
    "    def __init__(self, vocabularySize, classes = 5, d = 30):\n",
    "        super(RNTN, self).__init__()\n",
    "        self.d = d\n",
    "        self.L = nn.Embedding(vocabularySize, d)\n",
    "        self.W = nn.Linear(d * 2, d)\n",
    "        self.Ws = nn.Linear(d,  classes)\n",
    "        self.register_parameter('V', nn.Parameter(torch.rand(2 * d, 2 * d, d)))\n",
    "        self.lSoftmax = nn.LogSoftmax(dim=1)\n",
    "    \n",
    "    def tensorProduct(self, phrase):\n",
    "        result = torch.empty(phrase.shape[0], self.d)\n",
    "        for i in range(self.d):\n",
    "            result[:,i] = torch.sum(phrase * torch.mm(phrase, self.V[:,:,i]), dim = 1)\n",
    "        return result\n",
    "    \n",
    "    def embed(self, inpt):\n",
    "        return self.L(inpt)\n",
    "    \n",
    "    def sentiment(self, inpt):\n",
    "        return self.lSoftmax(self.Ws(inpt))\n",
    "    \n",
    "    def node(self, leftPhrase, rightPhrase):\n",
    "        phraseVec = torch.cat([leftPhrase, rightPhrase], dim=1)\n",
    "        return torch.tanh(self.tensorProduct(phraseVec) + self.W(phraseVec))"
   ]
  },
  {
   "cell_type": "markdown",
   "metadata": {},
   "source": [
    "## Dynamic Batching with torchfold"
   ]
  },
  {
   "cell_type": "code",
   "execution_count": null,
   "metadata": {},
   "outputs": [],
   "source": [
    "def encodeTree4Training(fold, tree):\n",
    "    allOutputs, allLabels = [], []\n",
    "    \n",
    "    def encodeNodeTraining(node):\n",
    "        if len(node.children) == 0:\n",
    "            wordVector = fold.add('embed', word2idx[node.to_lines()[0]])\n",
    "            allOutputs.append(fold.add('sentiment', wordVector))\n",
    "            allLabels.append(node.label)\n",
    "            return wordVector\n",
    "        else:\n",
    "            phraseVector = fold.add('node', encodeNodeTraining(node.children[0]), encodeNodeTraining(node.children[1]))\n",
    "            allOutputs.append(fold.add('sentiment', phraseVector))\n",
    "            allLabels.append(node.label)\n",
    "            return phraseVector\n",
    "    \n",
    "    encodedTree = encodeNodeTraining(tree)\n",
    "    return allOutputs, allLabels\n",
    "\n",
    "def encodeTree(fold, tree):\n",
    "    def encodeNode(node):\n",
    "        if len(node.children) == 0:\n",
    "            return fold.add('embed', word2idx[node.to_lines()[0]])\n",
    "        else:\n",
    "            return fold.add('node', encodeNode(node.children[0]), encodeNode(node.children[1]))\n",
    "            \n",
    "    encodedTree = encodeNode(tree)\n",
    "    return fold.add('sentiment', encodedTree)"
   ]
  },
  {
   "cell_type": "markdown",
   "metadata": {},
   "source": [
    "## Training"
   ]
  },
  {
   "cell_type": "code",
   "execution_count": null,
   "metadata": {},
   "outputs": [],
   "source": [
    "device = torch.device(\"cuda:0\" if torch.cuda.is_available() else \"cpu\")\n",
    "print('Training on {}'.format(device))\n",
    "\n",
    "batchSize = 256\n",
    "epochs = 4000\n",
    "\n",
    "print_every = 10\n",
    "devSet_every = 10\n",
    "save_every = 50\n",
    "\n",
    "savePath = '../savedModels/v2/'\n",
    "\n",
    "totalLoss = []\n",
    "accuracy = []\n",
    "\n",
    "net = RNTN(len(word2idx))\n",
    "net.to(device)\n",
    "\n",
    "loss_f = nn.NLLLoss() # Negative log likelihood loss\n",
    "optimizer = optim.Adagrad(net.parameters(), weight_decay=0.001) # Adagrad with L2 regularization"
   ]
  },
  {
   "cell_type": "code",
   "execution_count": 1,
   "metadata": {},
   "outputs": [
    {
     "ename": "NameError",
     "evalue": "name 'time' is not defined",
     "output_type": "error",
     "traceback": [
      "\u001b[0;31m---------------------------------------------------------------------------\u001b[0m",
      "\u001b[0;31mNameError\u001b[0m                                 Traceback (most recent call last)",
      "\u001b[0;32m<ipython-input-1-78b1ec46450b>\u001b[0m in \u001b[0;36m<module>\u001b[0;34m\u001b[0m\n\u001b[0;32m----> 1\u001b[0;31m \u001b[0mstart\u001b[0m \u001b[0;34m=\u001b[0m \u001b[0mtime\u001b[0m\u001b[0;34m.\u001b[0m\u001b[0mtime\u001b[0m\u001b[0;34m(\u001b[0m\u001b[0;34m)\u001b[0m\u001b[0;34m\u001b[0m\u001b[0;34m\u001b[0m\u001b[0m\n\u001b[0m\u001b[1;32m      2\u001b[0m \u001b[0;32mfor\u001b[0m \u001b[0me\u001b[0m \u001b[0;32min\u001b[0m \u001b[0mrange\u001b[0m\u001b[0;34m(\u001b[0m\u001b[0;36m1\u001b[0m\u001b[0;34m,\u001b[0m \u001b[0mepochs\u001b[0m\u001b[0;34m+\u001b[0m\u001b[0;36m1\u001b[0m\u001b[0;34m)\u001b[0m\u001b[0;34m:\u001b[0m\u001b[0;34m\u001b[0m\u001b[0;34m\u001b[0m\u001b[0m\n\u001b[1;32m      3\u001b[0m \u001b[0;34m\u001b[0m\u001b[0m\n\u001b[1;32m      4\u001b[0m     \u001b[0mtrain_iter\u001b[0m \u001b[0;34m=\u001b[0m \u001b[0mchunks\u001b[0m\u001b[0;34m(\u001b[0m\u001b[0mshuffle\u001b[0m\u001b[0;34m(\u001b[0m\u001b[0mbank\u001b[0m\u001b[0;34m[\u001b[0m\u001b[0;34m'train'\u001b[0m\u001b[0;34m]\u001b[0m\u001b[0;34m)\u001b[0m\u001b[0;34m,\u001b[0m \u001b[0mbatchSize\u001b[0m\u001b[0;34m)\u001b[0m\u001b[0;34m\u001b[0m\u001b[0;34m\u001b[0m\u001b[0m\n\u001b[1;32m      5\u001b[0m     \u001b[0mtotalLoss\u001b[0m\u001b[0;34m.\u001b[0m\u001b[0mappend\u001b[0m\u001b[0;34m(\u001b[0m\u001b[0;36m0\u001b[0m\u001b[0;34m)\u001b[0m\u001b[0;34m\u001b[0m\u001b[0;34m\u001b[0m\u001b[0m\n",
      "\u001b[0;31mNameError\u001b[0m: name 'time' is not defined"
     ]
    }
   ],
   "source": [
    "start = time.time()\n",
    "for e in range(1, epochs+1):\n",
    "    \n",
    "    train_iter = chunks(shuffle(bank['train']), batchSize)\n",
    "    totalLoss.append(0)\n",
    "    for batchIdx, batch in enumerate(train_iter):\n",
    "        \n",
    "        optimizer.zero_grad()\n",
    "        \n",
    "        fold = Fold(cuda= device.type != 'cpu')\n",
    "        allOutputs, allLabels = [], []\n",
    "        for sentenceTree in batch:\n",
    "            sentenceOutputs, sentenceLabels = encodeTree4Training(fold, sentenceTree)\n",
    "            allOutputs.extend(sentenceOutputs)\n",
    "            allLabels.extend(sentenceLabels)\n",
    "        \n",
    "        res = fold.apply(net, [allOutputs, allLabels])\n",
    "        error = loss_f(res[0], res[1])\n",
    "        error.backward(); optimizer.step()\n",
    "        totalLoss[-1] += error.item()\n",
    "        \n",
    "        \n",
    "    if e % save_every == 0:\n",
    "        torch.save(net.state_dict(), '{}/{}/net_{}.pth'.format(savePath, d, e))\n",
    "    if e % print_every == 0:   \n",
    "        print('Epoch {}: Total Loss = {}, Avg. Time/Epoch = {}'.format(e, totalLoss[-1],(time.time() - start) / print_every))\n",
    "        start = time.time()\n",
    "    if e % devSet_every == 0:\n",
    "        with torch.no_grad():\n",
    "            fold = Fold(cuda= device.type != 'cpu')\n",
    "            allOutputs, allLabels = [], []\n",
    "            for sentenceTree in bank['dev']:\n",
    "                allOutputs.append(encodeTree(fold, sentenceTree))\n",
    "                allLabels.append(sentenceTree.label)\n",
    "\n",
    "            res = fold.apply(net, [allOutputs, allLabels])\n",
    "            accuracy.append(accuracy_score(torch.argmax(res[0], dim=1), res[1]))\n",
    "            print('Epoch {}: Accuracy on the dev set = {}'.format(e, accuracy[-1]))\n",
    "            "
   ]
  },
  {
   "cell_type": "markdown",
   "metadata": {},
   "source": [
    "## Plots"
   ]
  },
  {
   "cell_type": "code",
   "execution_count": null,
   "metadata": {},
   "outputs": [],
   "source": [
    "import matplotlib.pyplot as plt"
   ]
  },
  {
   "cell_type": "code",
   "execution_count": null,
   "metadata": {},
   "outputs": [],
   "source": [
    "plt.plot(totalLoss)"
   ]
  },
  {
   "cell_type": "code",
   "execution_count": null,
   "metadata": {},
   "outputs": [],
   "source": [
    "plt.plot(np.arange(0, epochs, devSet_every), accuracy)"
   ]
  },
  {
   "cell_type": "code",
   "execution_count": null,
   "metadata": {},
   "outputs": [],
   "source": []
  }
 ],
 "metadata": {
  "kernelspec": {
   "display_name": "Python 3",
   "language": "python",
   "name": "python3"
  },
  "language_info": {
   "codemirror_mode": {
    "name": "ipython",
    "version": 3
   },
   "file_extension": ".py",
   "mimetype": "text/x-python",
   "name": "python",
   "nbconvert_exporter": "python",
   "pygments_lexer": "ipython3",
   "version": "3.7.1"
  },
  "varInspector": {
   "cols": {
    "lenName": 16,
    "lenType": 16,
    "lenVar": 40
   },
   "kernels_config": {
    "python": {
     "delete_cmd_postfix": "",
     "delete_cmd_prefix": "del ",
     "library": "var_list.py",
     "varRefreshCmd": "print(var_dic_list())"
    },
    "r": {
     "delete_cmd_postfix": ") ",
     "delete_cmd_prefix": "rm(",
     "library": "var_list.r",
     "varRefreshCmd": "cat(var_dic_list()) "
    }
   },
   "types_to_exclude": [
    "module",
    "function",
    "builtin_function_or_method",
    "instance",
    "_Feature"
   ],
   "window_display": false
  }
 },
 "nbformat": 4,
 "nbformat_minor": 2
}
